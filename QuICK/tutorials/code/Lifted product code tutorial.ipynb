{
 "cells": [
  {
   "cell_type": "markdown",
   "metadata": {},
   "source": [
    "## Lifted product code\n",
    "The lifted product code is an generalization of hypergraph product. For more information, please refer to https://arxiv.org/abs/2012.04068."
   ]
  },
  {
   "cell_type": "markdown",
   "metadata": {},
   "source": [
    "### protograph \n",
    "In general lifted product is defined on a ring, but here we only consider it on the extension of $GF(2)$ field that is implemented in our platform. \n",
    "\n",
    "An $l \\times l$ circulant matrix A over $\\mathbb{F}_2$ take the form \n",
    "\\begin{equation*}\n",
    "A = \n",
    "\\begin{pmatrix}\n",
    "a_0 & a_{l-1} & \\cdots a_1 \\\\\n",
    "a_1 & a_{0} & \\cdots a_2 \\\\\n",
    "\\cdots \\\\\n",
    "a_{l-1} & a_{l-2} & \\cdots a_2 \\\\\n",
    "\\end{pmatrix} = a_0I + a_1P + \\cdots + a_{l-1}P^{l-1}\n",
    "\\end{equation*}\n",
    "\n",
    "where $I$ is the $l \\times l$ identity matrix and is the $l \\times l$ permutation matrix representing the right cyclic shift by one position. Since $P^l= I$, we see that the ring of all $l \\times l$ circulant matrices over $\\mathbb{F}_2$ is isomorphic to the ring $R_l = \\mathbb{F}_2[x]/(x^l- 1) = GF(2^l)$ of polynomials over $\\mathbb{F}_2$ modulo the polynomial $x^l- 1$. Hence the circulant matrix A can be uniquely represented by the polynomial:\n",
    "\\begin{equation*}\n",
    "    p_a = a_0 + a_1x + \\cdots + a_{l-1}x^{l-1}.\n",
    "\\end{equation*}\n",
    "The $GF(2^l)$ is the extended field of $GF(2)$, and element $a$ is the polynomial representation on $GF(2^l)$. We can either represente $a$ as the binary vector $(a_{l-1}, a_{l-2}, \\cdots, a_0)$ or the integer given by transforming the vector to decimal. \n",
    "\n",
    "If we construt a matrix over the ring \n",
    "\\begin{equation*}\n",
    "M =  \n",
    "\\begin{pmatrix}\n",
    "p_a & p_b & \\cdots \\\\\n",
    "\\vdots & \\cdots &p_n\n",
    "\\end{pmatrix} \n",
    "\\end{equation*}\n",
    "the matrix $M$ is called __protograph__."
   ]
  },
  {
   "cell_type": "code",
   "execution_count": 1,
   "metadata": {},
   "outputs": [
    {
     "name": "stdout",
     "output_type": "stream",
     "text": [
      "Protograph:\n",
      "[[   1 2048  128 4096]\n",
      " [   2  256    2  256]\n",
      " [2048    1   16  256]\n",
      " [  64    4   16 4096]]\n"
     ]
    }
   ],
   "source": [
    "import numpy as np\n",
    "from quick.core.code.protograph import Protograph\n",
    "\n",
    "base_matrix = np.array([[0,11,7, 12],[1,8,1,8],[11,0,4,8],[6,2,4,12]])\n",
    "base_matrix = np.exp2(base_matrix).astype(int)\n",
    "proto = Protograph(base_matrix)\n",
    "print('Protograph:')\n",
    "print(proto.galois_matrix)"
   ]
  },
  {
   "cell_type": "markdown",
   "metadata": {},
   "source": [
    "### Lift\n",
    "__Lift__ is implemented by substituting the each elements in $M$ by the corresponding circulant matrix\n",
    "\\begin{equation*}\n",
    "L(M) =  \\begin{pmatrix}\n",
    "a_0I + a_1P + \\cdots + a_{l-1}P^{l-1}  & b_0I + b_1P + \\cdots + b_{l-1}P^{l-1} & \\cdots \\\\\n",
    "\\vdots & \\cdots & n_0I + n_1P + \\cdots + n_{l-1}P^{l-1}\n",
    "\\end{pmatrix} \n",
    "\\end{equation*}"
   ]
  },
  {
   "cell_type": "code",
   "execution_count": 2,
   "metadata": {},
   "outputs": [
    {
     "name": "stdout",
     "output_type": "stream",
     "text": [
      "Lift:\n"
     ]
    },
    {
     "data": {
      "text/plain": [
       "(12, 5)"
      ]
     },
     "execution_count": 2,
     "metadata": {},
     "output_type": "execute_result"
    }
   ],
   "source": [
    "from quick.core.code.cldpc.classical import to_classical\n",
    "lift = to_classical(graph = proto, galois_order = 3)\n",
    "print('Lift:')\n",
    "lift.num_physical, lift.num_logical"
   ]
  },
  {
   "cell_type": "markdown",
   "metadata": {},
   "source": [
    "$L(M)$ is a parity check matrix for classical quasi-cyclic code."
   ]
  },
  {
   "cell_type": "markdown",
   "metadata": {},
   "source": [
    "### lifted product\n",
    "For two protographs $M_1, M_2$, the lifted product is done by first performing hypergraph-product like operation to the protographs\n",
    "\\begin{equation*}\n",
    "M_x = [M_1\\otimes I_{n_2}, \\; I_{r_1} \\otimes M_2^T], \\; M_z = [I_{n_1} \\otimes M_2, \\; M_1^T \\otimes I_{r_2}]\n",
    "\\end{equation*}\n",
    "where $M_x, M_z$ are also protographs. The second steps is to lift $M_x, M_z$ to give the parity check matrixs\n",
    "\\begin{equation*}\n",
    "    H_x = L(M_x), \\; H_z = L(M_z).\n",
    "\\end{equation*}\n",
    "$H_x, H_z$ is a CSS code. "
   ]
  },
  {
   "cell_type": "code",
   "execution_count": 3,
   "metadata": {},
   "outputs": [
    {
     "name": "stdout",
     "output_type": "stream",
     "text": [
      "Lifted product code:\n"
     ]
    },
    {
     "data": {
      "text/plain": [
       "(416, 18)"
      ]
     },
     "execution_count": 3,
     "metadata": {},
     "output_type": "execute_result"
    }
   ],
   "source": [
    "from quick.core.code.qldpc.lp import LP\n",
    "LP = LP(proto,proto, 13)\n",
    "print('Lifted product code:')\n",
    "LP.num_physical, LP.num_logical"
   ]
  }
 ],
 "metadata": {
  "kernelspec": {
   "display_name": "myTorch_py311",
   "language": "python",
   "name": "python3"
  },
  "language_info": {
   "codemirror_mode": {
    "name": "ipython",
    "version": 3
   },
   "file_extension": ".py",
   "mimetype": "text/x-python",
   "name": "python",
   "nbconvert_exporter": "python",
   "pygments_lexer": "ipython3",
   "version": "3.10.14"
  }
 },
 "nbformat": 4,
 "nbformat_minor": 2
}
