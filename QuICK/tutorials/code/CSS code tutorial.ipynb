{
 "cells": [
  {
   "cell_type": "markdown",
   "metadata": {},
   "source": [
    "## Classical code\n"
   ]
  },
  {
   "cell_type": "markdown",
   "metadata": {},
   "source": [
    "In a binary code, $k$ bits are encoded in a binary string of length $n$. That is, from among the $2^n$ srings of length $n$, we designate a subset containing $2^k$ strings - the codewords. A $k$-bit message is encoded by selecting one of these $2^k$ codewords.\n",
    "In the special case of a binary linear code, the codewords form a $k$-dimensional closed linear subspace $C$ of the binary vector space $F^{n}_2$. That is, the bitwise XOR of two codewords is another codeword. The space $C$ of the code is spanned by a basis of $k$ vectors $v_1, v_2, \\dots, v_k$; an arbitary codeword can be expressed as a linear combination of these basis vectors:\n",
    "\\begin{equation*}\n",
    "v(\\alpha_1, \\dots, \\alpha_k) = \\sum_i \\alpha_i v_i,\n",
    "\\end{equation*}\n",
    "where each $\\alpha_i \\in \\{0,1\\}$, and addition is modulo 2. We may say that the length-$n$ vector $v(\\alpha_1, \\dots, \\alpha_k)$ encodes the $k$-bit message $\\alpha = (\\alpha_1, \\dots, \\alpha_k)$.\n",
    "\n",
    "The $k$ basis vectors $v_1, \\dots, v_k$ may be assembled into a $k \\times n$ matrix\n",
    "\\begin{equation*}\n",
    "G = \n",
    "\\begin{pmatrix}\n",
    "v_1 \\\\\n",
    "\\vdots \\\\\n",
    "v_k\n",
    "\\end{pmatrix},\n",
    "\\end{equation*}\n",
    "called the *generator matrix* of the code. Then in matrix notation, we cam rewrite:\n",
    "\\begin{equation*}\n",
    "v(\\alpha) = \\alpha G;\n",
    "\\end{equation*}\n",
    "the matrix $G$, acting to the left, ecndoes the message $\\alpha$."
   ]
  },
  {
   "cell_type": "markdown",
   "metadata": {},
   "source": [
    "An alternative way to characterize the $k$-dimensional code subspace of $F^n_2$ is to specify $n-k$ linear constraints. There is an $(n-k) \\times n$ matrix $H$ such that:\n",
    "\\begin{equation*}\n",
    "Hv = 0\n",
    "\\end{equation*}\n",
    "for all those and only those vectors $v$ in the code $C$. This matrix $H$ is called the parity check matrix of the code $C$. The rows of $H$ are $n-k$ linearly independent vectors, and the code space is the space of vectors that are *orthogonal* to all of these vectors. Orthogonality is defined with respect to the mod 2 bitwise inner product; two length-$n$ binaary strings are orthogonal is they ``collide'' (both take the value 1) at the even number of locations. Note that\n",
    "\\begin{equation*}\n",
    "HG^T = 0;\n",
    "\\end{equation*}\n",
    "where $G^T$ is the transpose of $G$; the rows of $G$ are orthogonal to the rows of $H$.\n",
    "\n",
    "\n"
   ]
  },
  {
   "cell_type": "markdown",
   "metadata": {},
   "source": [
    "For a classical bit, the only kind of error is a bit flip. An error occurring in an $n$-bit string can be characterized by an $n$-component vector $e$, where the 1's in $e$ mark the locations where errors occur. When affictedby the error $e$, the string $v$ becomes:\n",
    "\\begin{equation*}\n",
    "v \\rightarrow v + e.\n",
    "\\end{equation*}\n",
    "Errors can be detected by applying the parity check matrix. If $v$ is a codeword, then\n",
    "\\begin{equation*}\n",
    "H(v+e) = Hv + He = He. \n",
    "\\end{equation*}\n",
    "$He$ is called the syndrome of the error $e$. \n",
    "The *distance d* of a code $C$ is the minimum weight of any vector $c \\in C$, where the weight is the number of 1's in the string $v$. A linear code with distance $d = 2t+1$ can correct $t$ errors \n",
    "\n",
    "### Systematic code\n",
    "A systematic code can be defined by the generator matrix $G = (\\;I_k\\; |\\; P\\;)$, or by the parity check matrix $H = (\\;-P^T \\;|\\; I_{n-k} \\;)$ where\n",
    "\n",
    "* $I_k$ the identity matrix of dimensions $ k \\times k$\n",
    "* $P$ the parity matrix of dimensions $ k \\times (n-k)$\n",
    "\n",
    "Note that the $+$ and $-$ is the same in the binary field $F^n_2$. The writing of generator matrix is not unique and not always systematic. Any generator matrix can be transformed to its systematic form by exchange or addition of the rows and columns. Similar operation also work for parity check matrix. \n",
    "The codeword $x$ of the systematic code is constructed by the concatenation of the message $\\alpha$ and the parity vector $p = \\alpha P$, denoted as $p = (p_1,p_2, \\dots p_{n-k})$\n",
    "\\begin{equation*}\n",
    "    x = (\\alpha \\; p) = (\\alpha_1, \\alpha_2, \\dots \\alpha_k, p_1, p_2, \\dots p_{n-k})\n",
    "\\end{equation*}\n",
    "\n",
    "### Dual code\n",
    "A useful concept in classical coding theory is that of the *dual code*. We have seen that the $k \\times n$ generator matrix $G$ and $(n-k) \\times n$ parity check matrix $H$ of a code $C$ are related by $HG^T = 0$. Taking the transpose, it follows that $GH^T = 0$. Thus we may regard $H^T$ as the generator and $G$ as the parity check of an $(n − k)$-dimensional code, which is denoted $C^{\\perp}$ and called the dual of $C$. In other words, $C^{\\perp}$ is the orthogonal complement of $C$ in $F^n_2$. A vector is self-orthogonal if it has even weight, so it is possible for $C$ and $C^{\\perp}$ to intersect. A code contains its dual if all of its codewords have even weight and are mutually orthogonal. If $n=2k$ it is possible that $C=C^{\\perp}$, in which case $C$ is said to be self-dual.\n"
   ]
  },
  {
   "cell_type": "markdown",
   "metadata": {},
   "source": [
    "We use the triplet $(n,k,d)$ to denote the identity of a code: encode $k$ physical bits into $n$ logical bits and the distance of the code is $d$."
   ]
  },
  {
   "cell_type": "markdown",
   "metadata": {},
   "source": [
    "We take the (7,4) Hamming code as an example to explain the all of definitions above."
   ]
  },
  {
   "cell_type": "code",
   "execution_count": 1,
   "metadata": {},
   "outputs": [
    {
     "name": "stdout",
     "output_type": "stream",
     "text": [
      "The parity check matrix of this Hamming code is:\n",
      "[[0 0 0 1 1 1 1]\n",
      " [0 1 1 0 0 1 1]\n",
      " [1 0 1 0 1 0 1]]\n",
      "The number of physical bits is: 7\n",
      "The number of logical bits is: 4\n",
      "The distance of this Hamming code is: 3\n"
     ]
    }
   ],
   "source": [
    "from quick.dataset.classical import hamming_code\n",
    "hamming_code = hamming_code(3)\n",
    "\n",
    "print('The parity check matrix of this Hamming code is:')\n",
    "print(hamming_code.H)\n",
    "print('The number of physical bits is:', hamming_code.num_physical)\n",
    "print('The number of logical bits is:', hamming_code.num_logical)\n",
    "print('The distance of this Hamming code is:', hamming_code.distance)"
   ]
  },
  {
   "cell_type": "markdown",
   "metadata": {},
   "source": [
    "## Calderbank–Shor–Steane (CSS) code\n",
    "Principles from the theory of classical linear codes can be adapted to the construction of quantum error-correcting codes. Let $C_1$ be a classical linear code with $(n-k_1) \\times n$ parity check matrix $H_1$ and let $C_2$ be a subcode of $C_1$, with $(n-k_2) \\times n$ parity check matrix $H_2$, where $k_2 < k_1$. The first $n-k_1$ rows of $H_2$ coincide with those of $H_1$, but there are $k_1 - k_2$ additional linearly independent rows; thus each word in $C_2$ is contained in $C_1$, but the words in $C_2$ also obey some additional linear constraints.\n",
    "\n",
    "Therefore, the definition of CSS code is: For two classical linear code $C_1 (n, k_1, d_1)$ and $C_2 (n, k_2, d_2)$ satisfying: $C_1$, $i.e. C_2 \\subseteq C_1$ and $k_2 \\leq k_1$, then the resulting CSS code will be an $[[n, k_1 - k_2, \\min\\{d(C_1),d(C_2)\\}]]$ quantum code.     \n",
    "\n",
    "The idea behind CSS code is straightforward: since $C_1$ can protect bit flip errors, and phase flip errors are obtained by the Hadamard transform, which corresponds to the space $C_2^\\bot$, the code constructed by above two codes can protect bit flip and phase flip errors as the same time."
   ]
  },
  {
   "cell_type": "code",
   "execution_count": 2,
   "metadata": {},
   "outputs": [
    {
     "name": "stdout",
     "output_type": "stream",
     "text": [
      "The parity check mtraix of Steane code is:\n",
      "[[0 0 0 0 0 0 0 0 0 0 1 1 1 1]\n",
      " [0 0 0 0 0 0 0 0 1 1 0 0 1 1]\n",
      " [0 0 0 0 0 0 0 1 0 1 0 1 0 1]\n",
      " [0 0 0 1 1 1 1 0 0 0 0 0 0 0]\n",
      " [0 1 1 0 0 1 1 0 0 0 0 0 0 0]\n",
      " [1 0 1 0 1 0 1 0 0 0 0 0 0 0]]\n",
      "The logical operators of Steane code are: \n",
      "[array([1, 1, 1, 1, 1, 1, 1, 0, 0, 0, 0, 0, 0, 0]), array([0, 0, 0, 0, 0, 0, 0, 1, 1, 1, 1, 1, 1, 1])]\n"
     ]
    }
   ],
   "source": [
    "from quick.dataset.common import Steane\n",
    "\n",
    "steane = Steane()\n",
    "# The parity check mtraix and logical operators of Steane code\n",
    "print('The parity check mtraix of Steane code is:')\n",
    "print(steane.H)\n",
    "print('The logical operators of Steane code are: ')\n",
    "print(steane.logical_op)\n"
   ]
  },
  {
   "cell_type": "markdown",
   "metadata": {},
   "source": [
    "We can also obtain $n$, $k$ and $d$ of Steane code as follows."
   ]
  },
  {
   "cell_type": "code",
   "execution_count": null,
   "metadata": {},
   "outputs": [],
   "source": []
  }
 ],
 "metadata": {
  "kernelspec": {
   "display_name": "pymatching_env",
   "language": "python",
   "name": "python3"
  },
  "language_info": {
   "codemirror_mode": {
    "name": "ipython",
    "version": 3
   },
   "file_extension": ".py",
   "mimetype": "text/x-python",
   "name": "python",
   "nbconvert_exporter": "python",
   "pygments_lexer": "ipython3",
   "version": "3.10.14"
  }
 },
 "nbformat": 4,
 "nbformat_minor": 2
}
