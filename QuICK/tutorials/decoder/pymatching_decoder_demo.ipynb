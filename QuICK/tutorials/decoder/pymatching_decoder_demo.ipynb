{
 "cells": [
  {
   "cell_type": "code",
   "execution_count": 1,
   "metadata": {},
   "outputs": [],
   "source": [
    "import numpy as np\n",
    "from quick.dataset.surface import PlanarCode\n",
    "from quick.error import phaseflip_error\n",
    "from pymatching import Matching\n",
    "import matplotlib.pyplot as plt"
   ]
  },
  {
   "cell_type": "markdown",
   "metadata": {},
   "source": [
    "## Planar code example\n",
    "In this tutorial, we will utilize PyMathing to estimate the threshold of the planar code under an independent noise model with perfect syndrome measurements. We only simulate decoding $Z$-type errors using $X$-type stabilizers in this tutorial.\n",
    "##### Notice: Pymatching is designed exclusively for graph matching and is not suitable for hypergraph matching.\n",
    "The planar code is a type of **hypergraph product code** derived from classical repetition codes, which serve as its foundational classical codes. Below are the construction of parity check matrix of **hypergraph product code**:\n",
    "\n",
    "To construct the matrix $H_x$, one employs the hypergraph product of two repetition codes. This process involves using the parity check matrices of two linear codes, denoted as $H_1$ and $H_2$, as inputs. The resulting code is a CSS (Calderbank-Shor-Steane) code, characterized by its check matrices for the $X$ and $Z$ stabilizers. The check matrix for the $X$ stabilizers is expressed as:\n",
    "\\begin{equation*}\n",
    "H_x = [H_1 \\otimes I_{H_{2_{col}}},  I_{H_{1_{row}}} \\otimes H_2^T]\n",
    "\\end{equation*}\n",
    "whereas the check matrix for the $Z$ stabilizers is given by:\n",
    "\\begin{equation*}\n",
    "H_z = [I_{H_{1_{col}}} \\otimes H_2,  H_1^T \\otimes I_{H_{2_{row}}}]\n",
    "\\end{equation*}\n",
    "where $H_1$ has the shape: $H_{1_{row}} \\times H_{1_{col}}$, $H_2$ has shape: $H_{2_{row}} \\times H_{2_{col}}$ and $I$ denotes the identity matrix.\n",
    "\n",
    "Below is an example presenting the X check matrix of a planar code with lattice size 3"
   ]
  },
  {
   "cell_type": "code",
   "execution_count": 2,
   "metadata": {},
   "outputs": [
    {
     "name": "stdout",
     "output_type": "stream",
     "text": [
      "The X check matrix of this planar code is:\n",
      "[[1 0 0 1 0 0 0 0 0 1 0 0 0]\n",
      " [0 1 0 0 1 0 0 0 0 1 1 0 0]\n",
      " [0 0 1 0 0 1 0 0 0 0 1 0 0]\n",
      " [0 0 0 1 0 0 1 0 0 0 0 1 0]\n",
      " [0 0 0 0 1 0 0 1 0 0 0 1 1]\n",
      " [0 0 0 0 0 1 0 0 1 0 0 0 1]]\n"
     ]
    }
   ],
   "source": [
    "PC = PlanarCode(3)\n",
    "H = PC.Hx\n",
    "print('The X check matrix of this planar code is:')\n",
    "print(H)"
   ]
  },
  {
   "cell_type": "markdown",
   "metadata": {},
   "source": [
    "From the Künneth theorem, the $X$ logical operators of the planar code are given by\n",
    "\\begin{equation*}\n",
    "L_X = \n",
    "\\begin{pmatrix}\n",
    "\\cal{H}^1 \\otimes \\cal{H}^0  & 0 \\\\\n",
    "0 & \\cal{H}^0 \\otimes \\cal{H}^1 \n",
    "\\end{pmatrix}\n",
    "\\end{equation*}\n",
    "where $\\cal{H}^0$ and $\\cal{H}^1$ are the zeroth and first cohomology groups of the length-one chain complex that has the repetition code parity check matrix as its boundary operator. We can use *PlanarCode.logical_op[0]* to represent the $X$ logical operators from our package."
   ]
  },
  {
   "cell_type": "code",
   "execution_count": 3,
   "metadata": {},
   "outputs": [
    {
     "name": "stdout",
     "output_type": "stream",
     "text": [
      "The X logical operators of this planar code is:\n",
      "[[1 1 1 0 0 0 0 0 0 0 0 0 0]]\n"
     ]
    }
   ],
   "source": [
    "lx = PC.logical_op[0]\n",
    "print('The X logical operators of this planar code is:')\n",
    "print(lx)"
   ]
  },
  {
   "cell_type": "markdown",
   "metadata": {},
   "source": [
    "Now that we have the $X$ check matrix and $X$ logicals of the toric code, we can use PyMatching to simulate its performance using the minimum-weight perfect matching decoder and an error model of our choice.\n",
    "\n",
    "Firstly, we import the Matching class from PyMatching, and use it to construct a Matching object from the $X$ check matrix $H_x$ of the planar code stabilizers."
   ]
  },
  {
   "cell_type": "code",
   "execution_count": 4,
   "metadata": {},
   "outputs": [],
   "source": [
    "matching = Matching(H)"
   ]
  },
  {
   "cell_type": "markdown",
   "metadata": {},
   "source": [
    "We choose a number of trials, *num_shots*. For each trial, we simulate a $Z$ error under an independent noise model, in which each qubit independently suffers a $Z$ error with probability $p$ (here we set it to 0.015):"
   ]
  },
  {
   "cell_type": "code",
   "execution_count": 5,
   "metadata": {},
   "outputs": [],
   "source": [
    "E = phaseflip_error(physical_qubits = PC.num_physical, phaseflip_prob = 0.15)\n",
    "noise = E[1]"
   ]
  },
  {
   "cell_type": "markdown",
   "metadata": {},
   "source": [
    "The syndrome of the $X$ stabilisers is then calculated from the dot product (modulo 2) with the $X$ check matrix $H$:"
   ]
  },
  {
   "cell_type": "code",
   "execution_count": 6,
   "metadata": {},
   "outputs": [],
   "source": [
    "syndrome = H@noise % 2"
   ]
  },
  {
   "cell_type": "markdown",
   "metadata": {},
   "source": [
    "We can now use PyMatching to infer the most probable individual error given the syndrome:"
   ]
  },
  {
   "cell_type": "code",
   "execution_count": 7,
   "metadata": {},
   "outputs": [
    {
     "name": "stdout",
     "output_type": "stream",
     "text": [
      "The most probable individual error is\n",
      "[0 0 0 0 1 0 0 0 0 0 0 0 0]\n",
      "After the error correction:\n",
      "[0 0 0 0 0 0 0 0 0 0 0 0 0]\n"
     ]
    }
   ],
   "source": [
    "prediction = matching.decode(syndrome)\n",
    "after_receovery = (prediction + noise) % 2\n",
    "print('The most probable individual error is')\n",
    "print(prediction)\n",
    "print('After the error correction:')\n",
    "print(after_receovery)"
   ]
  },
  {
   "cell_type": "markdown",
   "metadata": {},
   "source": [
    "And the pymatching decoder will be successful if the dot product (modulo 2) of X logical operators and after_receovery is 0:"
   ]
  },
  {
   "cell_type": "code",
   "execution_count": 8,
   "metadata": {},
   "outputs": [
    {
     "data": {
      "text/plain": [
       "array([0], dtype=int32)"
      ]
     },
     "execution_count": 8,
     "metadata": {},
     "output_type": "execute_result"
    }
   ],
   "source": [
    "(lx @ after_receovery) % 2 "
   ]
  },
  {
   "cell_type": "code",
   "execution_count": 9,
   "metadata": {},
   "outputs": [],
   "source": [
    "prob = np.linspace(0.01,0.2,9)\n",
    "lattice = [5,9,13]\n",
    "logic_error_rate_all = []\n",
    "num_shots = 5000\n",
    "\n",
    "for l in lattice:\n",
    "    planarcode = PlanarCode(l)\n",
    "    H = planarcode.Hx\n",
    "    lx = planarcode.logical_op[0]\n",
    "    n = planarcode.num_physical\n",
    "\n",
    "    for error_probability in prob:\n",
    "        matching = Matching.from_check_matrix(H, weights=np.log((1-error_probability)/error_probability))\n",
    "        logic_num_error = 0\n",
    "        for i in range(num_shots):\n",
    "            E = phaseflip_error(physical_qubits = n, phaseflip_prob = error_probability)\n",
    "            noise = E[1]\n",
    "            \n",
    "            syndrome = H@noise % 2\n",
    "            prediction = matching.decode(syndrome)\n",
    "            after_receovery = (prediction + noise) % 2\n",
    "            \n",
    "            if (lx @  after_receovery) % 2 != 0:\n",
    "                logic_num_error = logic_num_error + 1\n",
    "\n",
    "        logic_error_rate_all.append(logic_num_error/num_shots)"
   ]
  },
  {
   "cell_type": "code",
   "execution_count": 10,
   "metadata": {},
   "outputs": [
    {
     "name": "stdout",
     "output_type": "stream",
     "text": [
      "Logical error rates for various error probabilities and different lattice sizes\n",
      "[[2.000e-04 7.800e-03 4.040e-02 8.660e-02 1.648e-01 2.318e-01 3.110e-01\n",
      "  3.672e-01 3.992e-01]\n",
      " [0.000e+00 1.000e-03 1.340e-02 6.260e-02 1.552e-01 2.606e-01 3.628e-01\n",
      "  4.250e-01 4.666e-01]\n",
      " [0.000e+00 0.000e+00 5.600e-03 4.540e-02 1.664e-01 3.072e-01 4.198e-01\n",
      "  4.634e-01 4.950e-01]]\n"
     ]
    }
   ],
   "source": [
    "logic_error_rate_all = np.array(logic_error_rate_all).reshape([3,9])\n",
    "print('Logical error rates for various error probabilities and different lattice sizes')\n",
    "print(logic_error_rate_all)"
   ]
  },
  {
   "cell_type": "code",
   "execution_count": 11,
   "metadata": {},
   "outputs": [
    {
     "data": {
      "image/png": "[encoded data removed]",
      "text/plain": [
       "<Figure size 640x480 with 1 Axes>"
      ]
     },
     "metadata": {},
     "output_type": "display_data"
    }
   ],
   "source": [
    "plt.figure()\n",
    "for i in range(3):\n",
    "    plt.plot(prob,logic_error_rate_all[i],label = \"L={}\".format(lattice[i]))\n",
    "plt.xlabel(\"Physical error rate\")\n",
    "plt.ylabel(\"Logical error rate\")\n",
    "plt.legend()\n",
    "plt.show()"
   ]
  }
 ],
 "metadata": {
  "kernelspec": {
   "display_name": "pymatching_env",
   "language": "python",
   "name": "python3"
  },
  "language_info": {
   "codemirror_mode": {
    "name": "ipython",
    "version": 3
   },
   "file_extension": ".py",
   "mimetype": "text/x-python",
   "name": "python",
   "nbconvert_exporter": "python",
   "pygments_lexer": "ipython3",
   "version": "3.10.14"
  }
 },
 "nbformat": 4,
 "nbformat_minor": 2
}
