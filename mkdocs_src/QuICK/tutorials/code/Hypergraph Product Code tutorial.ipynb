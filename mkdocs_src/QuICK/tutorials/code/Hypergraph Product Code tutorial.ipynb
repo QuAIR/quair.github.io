{
 "cells": [
  {
   "cell_type": "markdown",
   "metadata": {},
   "source": [
    "## Hypergraph Product Code example\n",
    "\n",
    "Hypergraph product (HGP) code is a family of CSS codes whose stabilizer generator matrix is obtained from a hypergraph product of two classical linear codes.\n",
    "\n",
    "The construction of the $[[n,k,d]]$ CSS code is based on two binary linear seed codes, $\\mathcal{C}_i$ for $i \\in \\{1,2\\}$, each with parameters $[n_i,k_i,d_i]$. These are defined as the kernel of an $r_i \\times n_i$ check matrix $H_i$, where each matrix has a rank of $n_i - k_i$. The hypergraph product yields two classical codes $\\mathcal{C}_{X,Z}$ with parity-check matrices:\n",
    "\\begin{equation}\n",
    "H_x = [H_1 \\otimes I_{n_2},  I_{r_1} \\otimes H_2^T] \n",
    "\\end{equation}\n",
    "\n",
    "\\begin{equation}\n",
    "H_z = [I_{n_1} \\otimes H_2,  H_1^T \\otimes I_{r_2}],\n",
    "\\end{equation}\n",
    "\n",
    "where $I_m$ is the $m$-dimensional identity matrix. These two codes then yield a hypergraph product code via the CSS construction.\n",
    "\n",
    "Here we will create a HGP code based on two Steane codes, so both parity check matrices are the same ($H_1 = H_2$):\n"
   ]
  },
  {
   "cell_type": "code",
   "execution_count": 1,
   "metadata": {},
   "outputs": [
    {
     "name": "stdout",
     "output_type": "stream",
     "text": [
      "The parity check matrix for the Steane code (Hi) is:\n",
      "[[0 0 0 0 0 0 0 0 0 0 1 1 1 1]\n",
      " [0 0 0 0 0 0 0 0 1 1 0 0 1 1]\n",
      " [0 0 0 0 0 0 0 1 0 1 0 1 0 1]\n",
      " [0 0 0 1 1 1 1 0 0 0 0 0 0 0]\n",
      " [0 1 1 0 0 1 1 0 0 0 0 0 0 0]\n",
      " [1 0 1 0 1 0 1 0 0 0 0 0 0 0]]\n"
     ]
    }
   ],
   "source": [
    "import numpy as np\n",
    "from quick.dataset.common import Steane\n",
    "from quick.core.code.qldpc.hgp import HGP\n",
    "\n",
    "# Get the parity check matrix H_i (i \\in \\{1,2\\})\n",
    "H1 = Steane().H\n",
    "H2 = Steane().H\n",
    "print(\"The parity check matrix for the Steane code (Hi) is:\")\n",
    "print(H1)\n"
   ]
  },
  {
   "cell_type": "markdown",
   "metadata": {},
   "source": [
    "Next, we will build the HGP code and check its parity check matrices. Also, I'll present some properties of HGP codes:"
   ]
  },
  {
   "cell_type": "code",
   "execution_count": 2,
   "metadata": {},
   "outputs": [
    {
     "name": "stdout",
     "output_type": "stream",
     "text": [
      "The shape of X parity check matrix is (84, 232) and the shape of Z matrix is (84, 232).\n",
      "The number of logical qubits is 64 and the distance of it is 3.\n"
     ]
    }
   ],
   "source": [
    "hgp_code = HGP(H1, H2)\n",
    "hx = hgp_code.Hx\n",
    "hz = hgp_code.Hz\n",
    "print(f\"The shape of X parity check matrix is {np.shape(hx)} and the shape of Z matrix is {np.shape(hz)}.\")\n",
    "print(f\"The number of logical qubits is {hgp_code.num_logical} and the distance of it is {hgp_code.distance}.\")"
   ]
  }
 ],
 "metadata": {
  "kernelspec": {
   "display_name": "pymatching_env",
   "language": "python",
   "name": "python3"
  },
  "language_info": {
   "codemirror_mode": {
    "name": "ipython",
    "version": 3
   },
   "file_extension": ".py",
   "mimetype": "text/x-python",
   "name": "python",
   "nbconvert_exporter": "python",
   "pygments_lexer": "ipython3",
   "version": "3.10.14"
  }
 },
 "nbformat": 4,
 "nbformat_minor": 2
}
